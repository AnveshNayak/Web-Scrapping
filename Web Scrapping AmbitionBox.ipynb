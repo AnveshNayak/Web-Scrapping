{
 "cells": [
  {
   "cell_type": "code",
   "execution_count": 85,
   "id": "8a246dea-2f36-45eb-88ca-9bbbae122b48",
   "metadata": {
    "tags": []
   },
   "outputs": [],
   "source": [
    "import pandas  as pd\n",
    "import requests\n",
    "from bs4 import BeautifulSoup\n",
    "import numpy as np"
   ]
  },
  {
   "cell_type": "code",
   "execution_count": 8,
   "id": "ee31faad-b605-42c8-829c-b8516e0f73a6",
   "metadata": {
    "tags": []
   },
   "outputs": [],
   "source": [
    "headers={'User-Agent':'Mozilla/5.0 (Windows NT 6.3; Win 64 ; x64) Apple WeKit /537.36(KHTML , like Gecko) Chrome/80.0.3987.162 Safari/537.36'}"
   ]
  },
  {
   "cell_type": "code",
   "execution_count": 10,
   "id": "0b029bd4-7b3e-4d20-b546-824aa7da15d8",
   "metadata": {
    "tags": []
   },
   "outputs": [],
   "source": [
    "webpage = requests.get('https://www.ambitionbox.com/list-of-companies?page=1', headers = headers).text"
   ]
  },
  {
   "cell_type": "code",
   "execution_count": 11,
   "id": "82e06a45-b1f0-4157-a59d-88f474ce3109",
   "metadata": {
    "tags": []
   },
   "outputs": [],
   "source": [
    "soup = BeautifulSoup(webpage, 'lxml')"
   ]
  },
  {
   "cell_type": "code",
   "execution_count": 31,
   "id": "e10569fa-e283-467c-9d88-0de3b6283b58",
   "metadata": {
    "tags": []
   },
   "outputs": [
    {
     "data": {
      "text/plain": [
       "1"
      ]
     },
     "execution_count": 31,
     "metadata": {},
     "output_type": "execute_result"
    }
   ],
   "source": [
    "len(soup.find_all('h1')[0].text.strip())"
   ]
  },
  {
   "cell_type": "code",
   "execution_count": 88,
   "id": "b9d92a2b-dc19-41dd-a1f9-7cd2bd355c6a",
   "metadata": {
    "tags": []
   },
   "outputs": [
    {
     "ename": "SyntaxError",
     "evalue": "incomplete input (2751329306.py, line 2)",
     "output_type": "error",
     "traceback": [
      "\u001b[1;36m  Cell \u001b[1;32mIn[88], line 2\u001b[1;36m\u001b[0m\n\u001b[1;33m    #print(i.text)\u001b[0m\n\u001b[1;37m                  ^\u001b[0m\n\u001b[1;31mSyntaxError\u001b[0m\u001b[1;31m:\u001b[0m incomplete input\n"
     ]
    }
   ],
   "source": [
    "for i in soup.find_all('span', class_ = \"companyCardWrapper__companyRatingValue\"):\n",
    "    #print(i.text)"
   ]
  },
  {
   "cell_type": "code",
   "execution_count": 37,
   "id": "1e267d7b-d741-42cd-9b43-0db7410eccdb",
   "metadata": {
    "tags": []
   },
   "outputs": [],
   "source": [
    "company = soup.find_all('div', 'companyCardWrapper')"
   ]
  },
  {
   "cell_type": "code",
   "execution_count": 87,
   "id": "0feb1a9d-9baa-4c3d-93a8-8b6192f46801",
   "metadata": {
    "tags": []
   },
   "outputs": [
    {
     "data": {
      "text/html": [
       "<div>\n",
       "<style scoped>\n",
       "    .dataframe tbody tr th:only-of-type {\n",
       "        vertical-align: middle;\n",
       "    }\n",
       "\n",
       "    .dataframe tbody tr th {\n",
       "        vertical-align: top;\n",
       "    }\n",
       "\n",
       "    .dataframe thead th {\n",
       "        text-align: right;\n",
       "    }\n",
       "</style>\n",
       "<table border=\"1\" class=\"dataframe\">\n",
       "  <thead>\n",
       "    <tr style=\"text-align: right;\">\n",
       "      <th></th>\n",
       "      <th>name</th>\n",
       "      <th>rating</th>\n",
       "      <th>info</th>\n",
       "      <th>high_rated</th>\n",
       "    </tr>\n",
       "  </thead>\n",
       "  <tbody>\n",
       "    <tr>\n",
       "      <th>0</th>\n",
       "      <td>TCS</td>\n",
       "      <td>3.8</td>\n",
       "      <td>IT Services &amp; Consulting | 1 Lakh+ Employees |...</td>\n",
       "      <td>Job Security, Work Life Balance, Company Culture</td>\n",
       "    </tr>\n",
       "    <tr>\n",
       "      <th>1</th>\n",
       "      <td>Accenture</td>\n",
       "      <td>4.1</td>\n",
       "      <td>IT Services &amp; Consulting | 1 Lakh+ Employees |...</td>\n",
       "      <td>Company Culture, Job Security, Skill Developme...</td>\n",
       "    </tr>\n",
       "    <tr>\n",
       "      <th>2</th>\n",
       "      <td>Cognizant</td>\n",
       "      <td>3.9</td>\n",
       "      <td>IT Services &amp; Consulting | 1 Lakh+ Employees |...</td>\n",
       "      <td>Skill Development / Learning, Job Security</td>\n",
       "    </tr>\n",
       "    <tr>\n",
       "      <th>3</th>\n",
       "      <td>Wipro</td>\n",
       "      <td>3.8</td>\n",
       "      <td>IT Services &amp; Consulting | 1 Lakh+ Employees |...</td>\n",
       "      <td>Job Security, Skill Development / Learning</td>\n",
       "    </tr>\n",
       "    <tr>\n",
       "      <th>4</th>\n",
       "      <td>ICICI Bank</td>\n",
       "      <td>4.0</td>\n",
       "      <td>Banking | 1 Lakh+ Employees | Public | 29 year...</td>\n",
       "      <td>Job Security, Skill Development / Learning, Co...</td>\n",
       "    </tr>\n",
       "    <tr>\n",
       "      <th>5</th>\n",
       "      <td>HDFC Bank</td>\n",
       "      <td>3.9</td>\n",
       "      <td>Banking | 1 Lakh+ Employees | Public | 29 year...</td>\n",
       "      <td>Job Security, Skill Development / Learning</td>\n",
       "    </tr>\n",
       "    <tr>\n",
       "      <th>6</th>\n",
       "      <td>Infosys</td>\n",
       "      <td>3.9</td>\n",
       "      <td>IT Services &amp; Consulting | 1 Lakh+ Employees |...</td>\n",
       "      <td>Job Security, Company Culture, Skill Developme...</td>\n",
       "    </tr>\n",
       "    <tr>\n",
       "      <th>7</th>\n",
       "      <td>Capgemini</td>\n",
       "      <td>3.8</td>\n",
       "      <td>IT Services &amp; Consulting | 1 Lakh+ Employees |...</td>\n",
       "      <td>Job Security, Work Life Balance, Company Culture</td>\n",
       "    </tr>\n",
       "    <tr>\n",
       "      <th>8</th>\n",
       "      <td>Tech Mahindra</td>\n",
       "      <td>3.7</td>\n",
       "      <td>IT Services &amp; Consulting | 1 Lakh+ Employees |...</td>\n",
       "      <td>NaN</td>\n",
       "    </tr>\n",
       "    <tr>\n",
       "      <th>9</th>\n",
       "      <td>HCLTech</td>\n",
       "      <td>3.7</td>\n",
       "      <td>IT Services &amp; Consulting | 1 Lakh+ Employees |...</td>\n",
       "      <td>Job Security</td>\n",
       "    </tr>\n",
       "    <tr>\n",
       "      <th>10</th>\n",
       "      <td>Genpact</td>\n",
       "      <td>3.9</td>\n",
       "      <td>IT Services &amp; Consulting | 1 Lakh+ Employees |...</td>\n",
       "      <td>Job Security, Skill Development / Learning, Wo...</td>\n",
       "    </tr>\n",
       "    <tr>\n",
       "      <th>11</th>\n",
       "      <td>Axis Bank</td>\n",
       "      <td>3.8</td>\n",
       "      <td>Banking | 50k-1 Lakh Employees | Public | 30 y...</td>\n",
       "      <td>Job Security</td>\n",
       "    </tr>\n",
       "    <tr>\n",
       "      <th>12</th>\n",
       "      <td>Concentrix Corporation</td>\n",
       "      <td>3.9</td>\n",
       "      <td>BPO | 50k-1 Lakh Employees | Public | 40 years...</td>\n",
       "      <td>Job Security, Company Culture</td>\n",
       "    </tr>\n",
       "    <tr>\n",
       "      <th>13</th>\n",
       "      <td>Amazon</td>\n",
       "      <td>4.2</td>\n",
       "      <td>Internet | 1 Lakh+ Employees | Public | 29 yea...</td>\n",
       "      <td>Company Culture, Salary &amp; Benefits, Work Life ...</td>\n",
       "    </tr>\n",
       "    <tr>\n",
       "      <th>14</th>\n",
       "      <td>Reliance Jio</td>\n",
       "      <td>3.9</td>\n",
       "      <td>Telecom | 50k-1 Lakh Employees | Public | 16 y...</td>\n",
       "      <td>Job Security, Skill Development / Learning</td>\n",
       "    </tr>\n",
       "    <tr>\n",
       "      <th>15</th>\n",
       "      <td>IBM</td>\n",
       "      <td>4.1</td>\n",
       "      <td>Software Product | 50k-1 Lakh Employees | Publ...</td>\n",
       "      <td>Job Security, Work Life Balance, Skill Develop...</td>\n",
       "    </tr>\n",
       "    <tr>\n",
       "      <th>16</th>\n",
       "      <td>Larsen &amp; Toubro Limited</td>\n",
       "      <td>4.0</td>\n",
       "      <td>Engineering &amp; Construction | 1 Lakh+ Employees...</td>\n",
       "      <td>Job Security, Skill Development / Learning</td>\n",
       "    </tr>\n",
       "    <tr>\n",
       "      <th>17</th>\n",
       "      <td>Reliance Retail</td>\n",
       "      <td>3.9</td>\n",
       "      <td>Retail | 1 Lakh+ Employees | 17 years old | Ch...</td>\n",
       "      <td>Skill Development / Learning, Job Security</td>\n",
       "    </tr>\n",
       "    <tr>\n",
       "      <th>18</th>\n",
       "      <td>HDB Financial Services</td>\n",
       "      <td>4.0</td>\n",
       "      <td>NBFC | 1 Lakh+ Employees | 16 years old | Chen...</td>\n",
       "      <td>Skill Development / Learning, Job Security, Co...</td>\n",
       "    </tr>\n",
       "    <tr>\n",
       "      <th>19</th>\n",
       "      <td>Teleperformance</td>\n",
       "      <td>3.6</td>\n",
       "      <td>BPO | 50k-1 Lakh Employees | Forbes Global 200...</td>\n",
       "      <td>NaN</td>\n",
       "    </tr>\n",
       "  </tbody>\n",
       "</table>\n",
       "</div>"
      ],
      "text/plain": [
       "                       name rating  \\\n",
       "0                       TCS    3.8   \n",
       "1                 Accenture    4.1   \n",
       "2                 Cognizant    3.9   \n",
       "3                     Wipro    3.8   \n",
       "4                ICICI Bank    4.0   \n",
       "5                 HDFC Bank    3.9   \n",
       "6                   Infosys    3.9   \n",
       "7                 Capgemini    3.8   \n",
       "8             Tech Mahindra    3.7   \n",
       "9                   HCLTech    3.7   \n",
       "10                  Genpact    3.9   \n",
       "11                Axis Bank    3.8   \n",
       "12   Concentrix Corporation    3.9   \n",
       "13                   Amazon    4.2   \n",
       "14             Reliance Jio    3.9   \n",
       "15                      IBM    4.1   \n",
       "16  Larsen & Toubro Limited    4.0   \n",
       "17          Reliance Retail    3.9   \n",
       "18   HDB Financial Services    4.0   \n",
       "19          Teleperformance    3.6   \n",
       "\n",
       "                                                 info  \\\n",
       "0   IT Services & Consulting | 1 Lakh+ Employees |...   \n",
       "1   IT Services & Consulting | 1 Lakh+ Employees |...   \n",
       "2   IT Services & Consulting | 1 Lakh+ Employees |...   \n",
       "3   IT Services & Consulting | 1 Lakh+ Employees |...   \n",
       "4   Banking | 1 Lakh+ Employees | Public | 29 year...   \n",
       "5   Banking | 1 Lakh+ Employees | Public | 29 year...   \n",
       "6   IT Services & Consulting | 1 Lakh+ Employees |...   \n",
       "7   IT Services & Consulting | 1 Lakh+ Employees |...   \n",
       "8   IT Services & Consulting | 1 Lakh+ Employees |...   \n",
       "9   IT Services & Consulting | 1 Lakh+ Employees |...   \n",
       "10  IT Services & Consulting | 1 Lakh+ Employees |...   \n",
       "11  Banking | 50k-1 Lakh Employees | Public | 30 y...   \n",
       "12  BPO | 50k-1 Lakh Employees | Public | 40 years...   \n",
       "13  Internet | 1 Lakh+ Employees | Public | 29 yea...   \n",
       "14  Telecom | 50k-1 Lakh Employees | Public | 16 y...   \n",
       "15  Software Product | 50k-1 Lakh Employees | Publ...   \n",
       "16  Engineering & Construction | 1 Lakh+ Employees...   \n",
       "17  Retail | 1 Lakh+ Employees | 17 years old | Ch...   \n",
       "18  NBFC | 1 Lakh+ Employees | 16 years old | Chen...   \n",
       "19  BPO | 50k-1 Lakh Employees | Forbes Global 200...   \n",
       "\n",
       "                                           high_rated  \n",
       "0    Job Security, Work Life Balance, Company Culture  \n",
       "1   Company Culture, Job Security, Skill Developme...  \n",
       "2          Skill Development / Learning, Job Security  \n",
       "3          Job Security, Skill Development / Learning  \n",
       "4   Job Security, Skill Development / Learning, Co...  \n",
       "5          Job Security, Skill Development / Learning  \n",
       "6   Job Security, Company Culture, Skill Developme...  \n",
       "7    Job Security, Work Life Balance, Company Culture  \n",
       "8                                                 NaN  \n",
       "9                                        Job Security  \n",
       "10  Job Security, Skill Development / Learning, Wo...  \n",
       "11                                       Job Security  \n",
       "12                      Job Security, Company Culture  \n",
       "13  Company Culture, Salary & Benefits, Work Life ...  \n",
       "14         Job Security, Skill Development / Learning  \n",
       "15  Job Security, Work Life Balance, Skill Develop...  \n",
       "16         Job Security, Skill Development / Learning  \n",
       "17         Skill Development / Learning, Job Security  \n",
       "18  Skill Development / Learning, Job Security, Co...  \n",
       "19                                                NaN  "
      ]
     },
     "execution_count": 87,
     "metadata": {},
     "output_type": "execute_result"
    }
   ],
   "source": [
    "name = []\n",
    "rating = []\n",
    "info = []\n",
    "high_rated = []\n",
    "\n",
    "for i in company:\n",
    "    name.append(i.find('h2').text.strip())\n",
    "    rating.append(i.find('span', class_ = 'companyCardWrapper__companyRatingValue').text.strip())\n",
    "    info.append(i.find('span', class_= 'companyCardWrapper__interLinking').text.strip())\n",
    "    try:\n",
    "        high_rated.append(i.find('span', class_='companyCardWrapper__ratingValues').text.strip())\n",
    "    except:\n",
    "        high_rated.append(np.nan)\n",
    "\n",
    "d = {'name':name, 'rating':rating, 'info':info, 'high_rated':high_rated}\n",
    "\n",
    "df = pd.DataFrame(d)\n",
    "df"
   ]
  },
  {
   "cell_type": "code",
   "execution_count": 57,
   "id": "8866cae0-44af-431b-a46a-b92692614d56",
   "metadata": {
    "tags": []
   },
   "outputs": [
    {
     "data": {
      "text/plain": [
       "'IT Services & Consulting | 1 Lakh+ Employees | Forbes Global 2000 | 29 years old | Chennai +121 more'"
      ]
     },
     "execution_count": 57,
     "metadata": {},
     "output_type": "execute_result"
    }
   ],
   "source": [
    "soup.find_all('span', class_= 'companyCardWrapper__interLinking')[2].text.strip()"
   ]
  },
  {
   "cell_type": "code",
   "execution_count": 99,
   "id": "7ea25aa3-3007-4d72-9847-0ddd4691b9bf",
   "metadata": {
    "tags": []
   },
   "outputs": [
    {
     "name": "stderr",
     "output_type": "stream",
     "text": [
      "C:\\Users\\HP\\AppData\\Local\\Temp\\ipykernel_4356\\1776855238.py:30: FutureWarning: The frame.append method is deprecated and will be removed from pandas in a future version. Use pandas.concat instead.\n",
      "  final = final.append(df)\n",
      "C:\\Users\\HP\\AppData\\Local\\Temp\\ipykernel_4356\\1776855238.py:30: FutureWarning: The frame.append method is deprecated and will be removed from pandas in a future version. Use pandas.concat instead.\n",
      "  final = final.append(df)\n",
      "C:\\Users\\HP\\AppData\\Local\\Temp\\ipykernel_4356\\1776855238.py:30: FutureWarning: The frame.append method is deprecated and will be removed from pandas in a future version. Use pandas.concat instead.\n",
      "  final = final.append(df)\n",
      "C:\\Users\\HP\\AppData\\Local\\Temp\\ipykernel_4356\\1776855238.py:30: FutureWarning: The frame.append method is deprecated and will be removed from pandas in a future version. Use pandas.concat instead.\n",
      "  final = final.append(df)\n",
      "C:\\Users\\HP\\AppData\\Local\\Temp\\ipykernel_4356\\1776855238.py:30: FutureWarning: The frame.append method is deprecated and will be removed from pandas in a future version. Use pandas.concat instead.\n",
      "  final = final.append(df)\n",
      "C:\\Users\\HP\\AppData\\Local\\Temp\\ipykernel_4356\\1776855238.py:30: FutureWarning: The frame.append method is deprecated and will be removed from pandas in a future version. Use pandas.concat instead.\n",
      "  final = final.append(df)\n",
      "C:\\Users\\HP\\AppData\\Local\\Temp\\ipykernel_4356\\1776855238.py:30: FutureWarning: The frame.append method is deprecated and will be removed from pandas in a future version. Use pandas.concat instead.\n",
      "  final = final.append(df)\n",
      "C:\\Users\\HP\\AppData\\Local\\Temp\\ipykernel_4356\\1776855238.py:30: FutureWarning: The frame.append method is deprecated and will be removed from pandas in a future version. Use pandas.concat instead.\n",
      "  final = final.append(df)\n",
      "C:\\Users\\HP\\AppData\\Local\\Temp\\ipykernel_4356\\1776855238.py:30: FutureWarning: The frame.append method is deprecated and will be removed from pandas in a future version. Use pandas.concat instead.\n",
      "  final = final.append(df)\n",
      "C:\\Users\\HP\\AppData\\Local\\Temp\\ipykernel_4356\\1776855238.py:30: FutureWarning: The frame.append method is deprecated and will be removed from pandas in a future version. Use pandas.concat instead.\n",
      "  final = final.append(df)\n"
     ]
    }
   ],
   "source": [
    "final = pd.DataFrame()\n",
    "\n",
    "for j in range(1,11):\n",
    "    headers={'User-Agent':'Mozilla/5.0 (Windows NT 6.3; Win 64 ; x64) Apple WeKit /537.36(KHTML , like Gecko) Chrome/80.0.3987.162 Safari/537.36'}\n",
    "    url = f'https://www.ambitionbox.com/list-of-companies?page={j}'\n",
    "    webpage = requests.get(url, headers = headers).text\n",
    "    \n",
    "    soup = BeautifulSoup(webpage, 'lxml')\n",
    "    \n",
    "    company = soup.find_all('div', 'companyCardWrapper')\n",
    "    \n",
    "    name = []\n",
    "    rating = []\n",
    "    info = []\n",
    "    high_rated = []\n",
    "\n",
    "    for i in company:\n",
    "        name.append(i.find('h2').text.strip())\n",
    "        rating.append(i.find('span', class_ = 'companyCardWrapper__companyRatingValue').text.strip())\n",
    "        info.append(i.find('span', class_= 'companyCardWrapper__interLinking').text.strip())\n",
    "        try:\n",
    "            high_rated.append(i.find('span', class_='companyCardWrapper__ratingValues').text.strip())\n",
    "        except:\n",
    "            high_rated.append(np.nan)\n",
    "\n",
    "    d = {'name':name, 'rating':rating, 'info':info, 'high_rated':high_rated}\n",
    "\n",
    "    df = pd.DataFrame(d)\n",
    "    \n",
    "    final = final.append(df)\n",
    "    \n",
    "    "
   ]
  },
  {
   "cell_type": "code",
   "execution_count": 100,
   "id": "14f0112e-45d7-44d0-9bfa-699c7b2c1548",
   "metadata": {
    "tags": []
   },
   "outputs": [
    {
     "data": {
      "text/plain": [
       "(200, 4)"
      ]
     },
     "execution_count": 100,
     "metadata": {},
     "output_type": "execute_result"
    }
   ],
   "source": [
    "final.shape"
   ]
  },
  {
   "cell_type": "code",
   "execution_count": null,
   "id": "e87c1efe-4e21-4d75-9ff7-8e6f1783462f",
   "metadata": {},
   "outputs": [],
   "source": []
  },
  {
   "cell_type": "code",
   "execution_count": null,
   "id": "4b8883f1-3fb1-45d7-a269-1cca0cc60535",
   "metadata": {},
   "outputs": [],
   "source": []
  },
  {
   "cell_type": "code",
   "execution_count": null,
   "id": "e51b45c3-8af3-486e-92ef-bb235c3e3c6d",
   "metadata": {},
   "outputs": [],
   "source": []
  },
  {
   "cell_type": "code",
   "execution_count": null,
   "id": "0bdf58d7-bba8-4cd9-b68a-6df968e6de66",
   "metadata": {},
   "outputs": [],
   "source": []
  }
 ],
 "metadata": {
  "kernelspec": {
   "display_name": "Python 3 (ipykernel)",
   "language": "python",
   "name": "python3"
  },
  "language_info": {
   "codemirror_mode": {
    "name": "ipython",
    "version": 3
   },
   "file_extension": ".py",
   "mimetype": "text/x-python",
   "name": "python",
   "nbconvert_exporter": "python",
   "pygments_lexer": "ipython3",
   "version": "3.11.4"
  }
 },
 "nbformat": 4,
 "nbformat_minor": 5
}
